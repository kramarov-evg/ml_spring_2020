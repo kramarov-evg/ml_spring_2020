{
 "cells": [
  {
   "cell_type": "code",
   "execution_count": 22,
   "metadata": {},
   "outputs": [],
   "source": [
    "import os\n",
    "import pandas as pd\n",
    "from sklearn import datasets, naive_bayes, svm, neighbors\n",
    "from sklearn.model_selection import train_test_split"
   ]
  },
  {
   "cell_type": "markdown",
   "metadata": {},
   "source": [
    "# Задание 1\n",
    "Исследуйте, как объем обучающей выборки и количество тестовых данных, влияет на точность классификации в датасетах про крестики-нолики (tic_tac_toe.txt) и о спаме e-mail сообщений (spam.csv) с помощью наивного Байесовского классификатора. Постройте графики зависимостей точности на обучающей и тестовой выборках в зависимости от их соотношения."
   ]
  },
  {
   "cell_type": "code",
   "execution_count": 2,
   "metadata": {},
   "outputs": [],
   "source": [
    "TIC_TAC_TOE_CONVERSION = {\n",
    "    'o': -1,\n",
    "    'b': 0,\n",
    "    'x': 1,\n",
    "    'positive': 1,\n",
    "    'negative': -1\n",
    "}\n",
    "\n",
    "def load_tic_tac_toe():\n",
    "\n",
    "    def cell_converter(cell_val):\n",
    "        return TIC_TAC_TOE_CONVERSION[cell_val]\n",
    "    \n",
    "    def result_converter(result):\n",
    "        return TIC_TAC_TOE_CONVERSION[result]\n",
    "\n",
    "    col_names = ['(0;0)', '(0;1)', '(0;2)', '(1;0)', '(1;1)', '(1;2)', '(2;0)', '(2;1)', '(2;2)', 'x_win']\n",
    "    converters = {}\n",
    "\n",
    "    for i in col_names[:-1]:\n",
    "        converters[i] = cell_converter\n",
    "    converters[col_names[-1]] = result_converter\n",
    "    \n",
    "    path = os.path.join(os.readlink('requisites'), 'tic_tac_toe.txt')\n",
    "    df = pd.read_table(path, names=col_names, sep=',', converters=converters)\n",
    "    \n",
    "    return df"
   ]
  },
  {
   "cell_type": "code",
   "execution_count": 7,
   "metadata": {
    "scrolled": true
   },
   "outputs": [],
   "source": [
    "SPAM_CONVERSION = {'spam': 1, 'nonspam': -1}\n",
    "\n",
    "def load_spam():\n",
    "    path = os.path.join(os.readlink('requisites'), 'spam.csv')\n",
    "    df = pd.read_table(path, sep=',', index_col=0, converters={'type': lambda x: SPAM_CONVERSION[x]})\n",
    "    return df"
   ]
  },
  {
   "cell_type": "code",
   "execution_count": 10,
   "metadata": {},
   "outputs": [],
   "source": [
    "def features_labels_split(dataframe: pd.core.frame.DataFrame) -> pd.core.frame.DataFrame:\n",
    "    return dataframe.iloc[:, :-1], dataframe.iloc[:, -1]"
   ]
  },
  {
   "cell_type": "code",
   "execution_count": 25,
   "metadata": {},
   "outputs": [],
   "source": [
    "ttt_dataset, spam_dataset = load_tic_tac_toe(), load_spam()\n",
    "\n",
    "ttt_features, ttt_labels = features_labels_split(ttt_dataset)\n",
    "spam_features, spam_labels = features_labels_split(spam_dataset)\n",
    "\n",
    "# classifier = naive_bayes.GaussianNB()\n",
    "# classifier.fit([ttt_features.iloc[0], ttt_features.iloc[-1]], [ttt_labels.iloc[1], ttt_labels.iloc[-1]])\n",
    "\n",
    "# classifier.predict([ttt_features.iloc[1], ttt_features.iloc[-1]])"
   ]
  },
  {
   "cell_type": "code",
   "execution_count": 51,
   "metadata": {},
   "outputs": [],
   "source": [
    "ttt_features_train, ttt_features_test, ttt_labels_train, ttt_labels_test = train_test_split(ttt_features, ttt_labels, test_size=0.33)\n",
    "spam_features_train, spam_features_test, spam_labels_train, spam_labels_test = train_test_split(spam_features, spam_labels, test_size=0.33)"
   ]
  },
  {
   "cell_type": "code",
   "execution_count": 58,
   "metadata": {},
   "outputs": [
    {
     "output_type": "execute_result",
     "data": {
      "text/plain": "{1: (0.7, 0.9361702127659575),\n 5: (0.6666666666666666, 0.7922077922077922),\n 10: (0.75, 0.8329718004338394),\n 15: (0.7152777777777778, 0.8219971056439942),\n 20: (0.6979166666666666, 0.8034744842562432),\n 25: (0.6708333333333333, 0.8323197219808862),\n 30: (0.7222222222222222, 0.8196958725561188),\n 35: (0.7321428571428571, 0.8249534450651769),\n 40: (0.7109375, 0.8294405214557306),\n 45: (0.7152777777777778, 0.8430709802028006),\n 50: (0.6826722338204593, 0.8300738809213386),\n 55: (0.7381404174573055, 0.8154879494271039),\n 60: (0.6956521739130435, 0.8160086925027165),\n 65: (0.7174959871589085, 0.8151120026746907),\n 70: (0.6751117734724292, 0.8084445824278175),\n 75: (0.6689847009735744, 0.8154158215010142),\n 80: (0.6897001303780965, 0.8068459657701712),\n 85: (0.694478527607362, 0.82996676041933),\n 90: (0.6523754345307068, 0.8234725911615551),\n 95: (0.716794731064764, 0.8210935712651567),\n 99: (0.48261327713382507, 0.8425905598243688)}"
     },
     "metadata": {},
     "execution_count": 58
    }
   ],
   "source": [
    "results = {}\n",
    "for i in range(0,101,5):\n",
    "    percent = (i if i > 0 else 1) if i < 100 else 99\n",
    "    ratio = percent / 100\n",
    "    ttt_features_train, ttt_features_test, ttt_labels_train, ttt_labels_test = train_test_split(ttt_features, ttt_labels, test_size=ratio)\n",
    "    spam_features_train, spam_features_test, spam_labels_train, spam_labels_test = train_test_split(spam_features, spam_labels, test_size=ratio)\n",
    "    ttt_classifier = naive_bayes.GaussianNB()\n",
    "    spam_classifier = naive_bayes.GaussianNB()\n",
    "    ttt_classifier.fit(ttt_features_train, ttt_labels_train)\n",
    "    spam_classifier.fit(spam_features_train, spam_labels_train)\n",
    "    ttt_score = ttt_classifier.score(ttt_features_test, ttt_labels_test)\n",
    "    spam_score = spam_classifier.score(spam_features_test, spam_labels_test)\n",
    "    results[percent] = (ttt_score, spam_score)"
   ]
  },
  {
   "cell_type": "markdown",
   "metadata": {},
   "source": [
    "# Задание 2\n",
    "Сгенерируйте 100 точек с двумя признаками X1 и X2 в соответствии с нормальным распределением так, что одна и вторая часть точек (класс -1 и класс 1) имеют параметры: мат. ожидание X1, мат. ожидание X2, среднеквадратические отклонения для обеих переменных, соответствующие вашему варианту (указан в таблице). Построить диаграммы, иллюстрирующие данные. Построить Байесовский классификатор и оценить качество классификации с помощью различных методов (точность, матрица ошибок, ROСи PR-кривые). Является ли построенный классификатор «хорошим»?"
   ]
  },
  {
   "cell_type": "code",
   "execution_count": null,
   "metadata": {},
   "outputs": [],
   "source": []
  },
  {
   "cell_type": "markdown",
   "metadata": {},
   "source": [
    "# Задание 3\n",
    "Постройте классификатор на основе метода k ближайших соседей для обучающего множества Glass (glass.csv). Посмотрите заголовки признаков и классов. Перед построением классификатора необходимо также удалить первый признак Id number, который не несет никакой информационной нагрузки."
   ]
  },
  {
   "cell_type": "markdown",
   "metadata": {},
   "source": [
    "## a.\n",
    "Постройте графики зависимости ошибки классификации от количества ближайших соседей."
   ]
  },
  {
   "cell_type": "code",
   "execution_count": null,
   "metadata": {},
   "outputs": [],
   "source": []
  },
  {
   "cell_type": "markdown",
   "metadata": {},
   "source": [
    "## b.\n",
    "Определите подходящие метрики расстояния и исследуйте, как тип метрики расстояния влияет на точность классификации."
   ]
  },
  {
   "cell_type": "code",
   "execution_count": null,
   "metadata": {},
   "outputs": [],
   "source": []
  },
  {
   "cell_type": "markdown",
   "metadata": {},
   "source": [
    "## c.\n",
    "Определите, к какому типу стекла относится экземпляр с характеристиками: RI=1.516 Na=11.7 Mg=1.01 Al=1.19 Si=72.59 K=0.43 Ca=11.44 Ba=0.02 Fe=0.1"
   ]
  },
  {
   "cell_type": "code",
   "execution_count": null,
   "metadata": {},
   "outputs": [],
   "source": []
  },
  {
   "cell_type": "markdown",
   "metadata": {},
   "source": [
    "# Задание 4\n",
    "Постройте классификаторы на основе метода опорных векторов для наборов данных из файлов svmdataN.txt и svmdataNtest.txt, где N – индекс задания:"
   ]
  },
  {
   "cell_type": "markdown",
   "metadata": {},
   "source": [
    "## a.\n",
    "Постройте алгоритм метода опорных векторов с линейным ядром. Визуализируйте разбиение пространства признаков на области с помощью полученной модели ([пример визуализации](https://scikit-learn.org/stable/auto_examples/svm/plot_iris_svc.html)). Выведите количество полученных опорных векторов, а также матрицу ошибок классификации на обучающей и тестовой выборках."
   ]
  },
  {
   "cell_type": "code",
   "execution_count": null,
   "metadata": {},
   "outputs": [],
   "source": []
  },
  {
   "cell_type": "markdown",
   "metadata": {},
   "source": [
    "## b.\n",
    "Постройте алгоритм метода опорных векторов с линейным ядром. Добейтесь нулевой ошибки сначала на обучающей выборке, а затем на тестовой, путем изменения штрафного параметра. Выберите оптимальное значение данного параметра и объясните свой выбор. Всегда ли нужно добиваться минимизации ошибки на обучающей выборке?"
   ]
  },
  {
   "cell_type": "code",
   "execution_count": null,
   "metadata": {},
   "outputs": [],
   "source": []
  },
  {
   "cell_type": "markdown",
   "metadata": {},
   "source": [
    "## c.\n",
    "Постройте алгоритм метода опорных векторов, используя различные ядра (линейное, полиномиальное степеней 1-5, сигмоидальная функция, гауссово). Визуализируйте разбиение пространства признаков на области с помощью полученных моделей. Сделайте выводы."
   ]
  },
  {
   "cell_type": "code",
   "execution_count": null,
   "metadata": {},
   "outputs": [],
   "source": []
  },
  {
   "cell_type": "markdown",
   "metadata": {},
   "source": [
    "## d.\n",
    "Постройте алгоритм метода опорных векторов, используя различные ядра (полиномиальное степеней 1-5, сигмоидальная функция, гауссово). Визуализируйте разбиение пространства признаков на области с помощью полученных моделей. Сделайте выводы."
   ]
  },
  {
   "cell_type": "code",
   "execution_count": null,
   "metadata": {},
   "outputs": [],
   "source": []
  },
  {
   "cell_type": "markdown",
   "metadata": {},
   "source": [
    "## e.\n",
    "Постройте алгоритм метода опорных векторов, используя различные ядра (полиномиальное степеней 1-5, сигмоидальная функция, гауссово). Изменяя значение параметра ядра (гамма), продемонстрируйте эффект переобучения, выполните при этом визуализацию разбиения пространства признаков на области."
   ]
  },
  {
   "cell_type": "code",
   "execution_count": null,
   "metadata": {},
   "outputs": [],
   "source": []
  },
  {
   "cell_type": "markdown",
   "metadata": {},
   "source": [
    "# Задание 5\n",
    "Постройте классификаторы для различных данных на основе деревьев решений:"
   ]
  },
  {
   "cell_type": "markdown",
   "metadata": {},
   "source": [
    "## a.\n",
    "Загрузите набор данных Glass из файла glass.csv. Постройте дерево классификации для модели, предсказывающей тип (Type) по остальным признакам. Визуализируйте результирующее дерево решения. Дайте интерпретацию полученным результатам. Является ли построенное дерево избыточным? Исследуйте зависимость точности классификации от критерия расщепления, максимальной глубины дерева и других параметров по вашему усмотрению."
   ]
  },
  {
   "cell_type": "code",
   "execution_count": null,
   "metadata": {},
   "outputs": [],
   "source": []
  },
  {
   "cell_type": "markdown",
   "metadata": {},
   "source": [
    "## b.\n",
    "Загрузите набор данных spam7 из файла spam7.csv. Постройте оптимальное, по вашему мнению, дерево классификации для параметра yesno. Объясните, как был осуществлён подбор параметров. Визуализируйте результирующее дерево решения.Определите наиболее влияющие признаки. Оцените качество классификации."
   ]
  },
  {
   "cell_type": "code",
   "execution_count": null,
   "metadata": {},
   "outputs": [],
   "source": []
  },
  {
   "cell_type": "markdown",
   "metadata": {},
   "source": [
    "# Задание 6\n",
    "Загрузите набор данных из файла bank_scoring_train.csv. Это набор финансовых данных, характеризующий физических лиц. Целевым столбцом является «SeriousDlqin2yrs», означающий, ухудшится ли финансовая ситуация у клиента. Постройте систему по принятию решения о выдаче или невыдаче кредита физическому лицу. Сделайте как минимум 2 варианта системы на основе различных классификаторов. Подберите подходящую метрику качества работы системы исходя из специфики задачи и определите, принятие решения какой системой сработало лучше на bank_scoring_test.csv."
   ]
  },
  {
   "cell_type": "code",
   "execution_count": null,
   "metadata": {},
   "outputs": [],
   "source": []
  }
 ],
 "metadata": {
  "kernelspec": {
   "display_name": "Python 3",
   "language": "python",
   "name": "python3"
  },
  "language_info": {
   "codemirror_mode": {
    "name": "ipython",
    "version": 3
   },
   "file_extension": ".py",
   "mimetype": "text/x-python",
   "name": "python",
   "nbconvert_exporter": "python",
   "pygments_lexer": "ipython3",
   "version": "3.8.2-final"
  }
 },
 "nbformat": 4,
 "nbformat_minor": 2
}