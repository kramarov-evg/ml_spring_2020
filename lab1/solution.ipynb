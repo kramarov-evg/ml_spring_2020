{
 "cells": [
  {
   "cell_type": "code",
   "execution_count": 4,
   "metadata": {},
   "outputs": [],
   "source": [
    "import os\n",
    "import pandas as pd\n",
    "from sklearn import datasets, naive_bayes, svm, neighbors"
   ]
  },
  {
   "cell_type": "markdown",
   "metadata": {},
   "source": [
    "# Задание 1\n",
    "Исследуйте, как объем обучающей выборки и количество тестовых данных, влияет на точность классификации в датасетах про крестики-нолики (tic_tac_toe.txt) и о спаме e-mail сообщений (spam.csv) с помощью наивного Байесовского классификатора. Постройте графики зависимостей точности на обучающей и тестовой выборках в зависимости от их соотношения."
   ]
  },
  {
   "cell_type": "code",
   "execution_count": 6,
   "metadata": {},
   "outputs": [],
   "source": [
    "def load_tic_tac_toe():\n",
    "    path = os.path.join(os.readlink('requisites'), 'tic_tac_toe.txt')\n",
    "    df = pd.read_table(path)\n",
    "    return df"
   ]
  },
  {
   "cell_type": "code",
   "execution_count": 8,
   "metadata": {},
   "outputs": [
    {
     "output_type": "execute_result",
     "data": {
      "text/plain": "     ,\"make\",\"address\",\"all\",\"num3d\",\"our\",\"over\",\"remove\",\"internet\",\"order\",\"mail\",\"receive\",\"will\",\"people\",\"report\",\"addresses\",\"free\",\"business\",\"email\",\"you\",\"credit\",\"your\",\"font\",\"num000\",\"money\",\"hp\",\"hpl\",\"george\",\"num650\",\"lab\",\"labs\",\"telnet\",\"num857\",\"data\",\"num415\",\"num85\",\"technology\",\"num1999\",\"parts\",\"pm\",\"direct\",\"cs\",\"meeting\",\"original\",\"project\",\"re\",\"edu\",\"table\",\"conference\",\"charSemicolon\",\"charRoundbracket\",\"charSquarebracket\",\"charExclamation\",\"charDollar\",\"charHash\",\"capitalAve\",\"capitalLong\",\"capitalTotal\",\"type\"\n0     1,0,0.64,0.64,0,0.32,0,0,0,0,0,0,0.64,0,0,0,0....                                                                                                                                                                                                                                                                                                                                                                                                                                                                                                           \n1     2,0.21,0.28,0.5,0,0.14,0.28,0.21,0.07,0,0.94,0...                                                                                                                                                                                                                                                                                                                                                                                                                                                                                                           \n2     3,0.06,0,0.71,0,1.23,0.19,0.19,0.12,0.64,0.25,...                                                                                                                                                                                                                                                                                                                                                                                                                                                                                                           \n3     4,0,0,0,0,0.63,0,0.31,0.63,0.31,0.63,0.31,0.31...                                                                                                                                                                                                                                                                                                                                                                                                                                                                                                           \n4     5,0,0,0,0,0.63,0,0.31,0.63,0.31,0.63,0.31,0.31...                                                                                                                                                                                                                                                                                                                                                                                                                                                                                                           \n...                                                 ...                                                                                                                                                                                                                                                                                                                                                                                                                                                                                                           \n4596  4597,0.31,0,0.62,0,0,0.31,0,0,0,0,0,1.88,0,0,0...                                                                                                                                                                                                                                                                                                                                                                                                                                                                                                           \n4597  4598,0,0,0,0,0,0,0,0,0,0,0,0,0,0,0,0,0,0,6,0,2...                                                                                                                                                                                                                                                                                                                                                                                                                                                                                                           \n4598  4599,0.3,0,0.3,0,0,0,0,0,0,0,0,1.8,0.3,0,0,0,0...                                                                                                                                                                                                                                                                                                                                                                                                                                                                                                           \n4599  4600,0.96,0,0,0,0.32,0,0,0,0,0,0,0.32,0,0,0,0,...                                                                                                                                                                                                                                                                                                                                                                                                                                                                                                           \n4600  4601,0,0,0.65,0,0,0,0,0,0,0,0,0,0.65,0,0,0,0,0...                                                                                                                                                                                                                                                                                                                                                                                                                                                                                                           \n\n[4601 rows x 1 columns]",
      "text/html": "<div>\n<style scoped>\n    .dataframe tbody tr th:only-of-type {\n        vertical-align: middle;\n    }\n\n    .dataframe tbody tr th {\n        vertical-align: top;\n    }\n\n    .dataframe thead th {\n        text-align: right;\n    }\n</style>\n<table border=\"1\" class=\"dataframe\">\n  <thead>\n    <tr style=\"text-align: right;\">\n      <th></th>\n      <th>,\"make\",\"address\",\"all\",\"num3d\",\"our\",\"over\",\"remove\",\"internet\",\"order\",\"mail\",\"receive\",\"will\",\"people\",\"report\",\"addresses\",\"free\",\"business\",\"email\",\"you\",\"credit\",\"your\",\"font\",\"num000\",\"money\",\"hp\",\"hpl\",\"george\",\"num650\",\"lab\",\"labs\",\"telnet\",\"num857\",\"data\",\"num415\",\"num85\",\"technology\",\"num1999\",\"parts\",\"pm\",\"direct\",\"cs\",\"meeting\",\"original\",\"project\",\"re\",\"edu\",\"table\",\"conference\",\"charSemicolon\",\"charRoundbracket\",\"charSquarebracket\",\"charExclamation\",\"charDollar\",\"charHash\",\"capitalAve\",\"capitalLong\",\"capitalTotal\",\"type\"</th>\n    </tr>\n  </thead>\n  <tbody>\n    <tr>\n      <th>0</th>\n      <td>1,0,0.64,0.64,0,0.32,0,0,0,0,0,0,0.64,0,0,0,0....</td>\n    </tr>\n    <tr>\n      <th>1</th>\n      <td>2,0.21,0.28,0.5,0,0.14,0.28,0.21,0.07,0,0.94,0...</td>\n    </tr>\n    <tr>\n      <th>2</th>\n      <td>3,0.06,0,0.71,0,1.23,0.19,0.19,0.12,0.64,0.25,...</td>\n    </tr>\n    <tr>\n      <th>3</th>\n      <td>4,0,0,0,0,0.63,0,0.31,0.63,0.31,0.63,0.31,0.31...</td>\n    </tr>\n    <tr>\n      <th>4</th>\n      <td>5,0,0,0,0,0.63,0,0.31,0.63,0.31,0.63,0.31,0.31...</td>\n    </tr>\n    <tr>\n      <th>...</th>\n      <td>...</td>\n    </tr>\n    <tr>\n      <th>4596</th>\n      <td>4597,0.31,0,0.62,0,0,0.31,0,0,0,0,0,1.88,0,0,0...</td>\n    </tr>\n    <tr>\n      <th>4597</th>\n      <td>4598,0,0,0,0,0,0,0,0,0,0,0,0,0,0,0,0,0,0,6,0,2...</td>\n    </tr>\n    <tr>\n      <th>4598</th>\n      <td>4599,0.3,0,0.3,0,0,0,0,0,0,0,0,1.8,0.3,0,0,0,0...</td>\n    </tr>\n    <tr>\n      <th>4599</th>\n      <td>4600,0.96,0,0,0,0.32,0,0,0,0,0,0,0.32,0,0,0,0,...</td>\n    </tr>\n    <tr>\n      <th>4600</th>\n      <td>4601,0,0,0.65,0,0,0,0,0,0,0,0,0,0.65,0,0,0,0,0...</td>\n    </tr>\n  </tbody>\n</table>\n<p>4601 rows × 1 columns</p>\n</div>"
     },
     "metadata": {},
     "execution_count": 8
    }
   ],
   "source": [
    "def load_spam():\n",
    "    path = os.path.join(os.readlink('requisites'), 'spam.csv')\n",
    "    df = pd.read_table(path)\n",
    "    return df"
   ]
  },
  {
   "cell_type": "markdown",
   "metadata": {},
   "source": [
    "# Задание 2\n",
    "Сгенерируйте 100 точек с двумя признаками X1 и X2 в соответствии с нормальным распределением так, что одна и вторая часть точек (класс -1 и класс 1) имеют параметры: мат. ожидание X1, мат. ожидание X2, среднеквадратические отклонения для обеих переменных, соответствующие вашему варианту (указан в таблице). Построить диаграммы, иллюстрирующие данные. Построить Байесовский классификатор и оценить качество классификации с помощью различных методов (точность, матрица ошибок, ROСи PR-кривые). Является ли построенный классификатор «хорошим»?"
   ]
  },
  {
   "cell_type": "code",
   "execution_count": null,
   "metadata": {},
   "outputs": [],
   "source": []
  },
  {
   "cell_type": "markdown",
   "metadata": {},
   "source": [
    "# Задание 3\n",
    "Постройте классификатор на основе метода k ближайших соседей для обучающего множества Glass (glass.csv). Посмотрите заголовки признаков и классов. Перед построением классификатора необходимо также удалить первый признак Id number, который не несет никакой информационной нагрузки."
   ]
  },
  {
   "cell_type": "markdown",
   "metadata": {},
   "source": [
    "## a.\n",
    "Постройте графики зависимости ошибки классификации от количества ближайших соседей."
   ]
  },
  {
   "cell_type": "code",
   "execution_count": null,
   "metadata": {},
   "outputs": [],
   "source": []
  },
  {
   "cell_type": "markdown",
   "metadata": {},
   "source": [
    "## b.\n",
    "Определите подходящие метрики расстояния и исследуйте, как тип метрики расстояния влияет на точность классификации."
   ]
  },
  {
   "cell_type": "code",
   "execution_count": null,
   "metadata": {},
   "outputs": [],
   "source": []
  },
  {
   "cell_type": "markdown",
   "metadata": {},
   "source": [
    "## c.\n",
    "Определите, к какому типу стекла относится экземпляр с характеристиками: RI=1.516 Na=11.7 Mg=1.01 Al=1.19 Si=72.59 K=0.43 Ca=11.44 Ba=0.02 Fe=0.1"
   ]
  },
  {
   "cell_type": "code",
   "execution_count": null,
   "metadata": {},
   "outputs": [],
   "source": []
  },
  {
   "cell_type": "markdown",
   "metadata": {},
   "source": [
    "# Задание 4\n",
    "Постройте классификаторы на основе метода опорных векторов для наборов данных из файлов svmdataN.txt и svmdataNtest.txt, где N – индекс задания:"
   ]
  },
  {
   "cell_type": "markdown",
   "metadata": {},
   "source": [
    "## a.\n",
    "Постройте алгоритм метода опорных векторов с линейным ядром. Визуализируйте разбиение пространства признаков на области с помощью полученной модели ([пример визуализации](https://scikit-learn.org/stable/auto_examples/svm/plot_iris_svc.html)). Выведите количество полученных опорных векторов, а также матрицу ошибок классификации на обучающей и тестовой выборках."
   ]
  },
  {
   "cell_type": "code",
   "execution_count": null,
   "metadata": {},
   "outputs": [],
   "source": []
  },
  {
   "cell_type": "markdown",
   "metadata": {},
   "source": [
    "## b.\n",
    "Постройте алгоритм метода опорных векторов с линейным ядром. Добейтесь нулевой ошибки сначала на обучающей выборке, а затем на тестовой, путем изменения штрафного параметра. Выберите оптимальное значение данного параметра и объясните свой выбор. Всегда ли нужно добиваться минимизации ошибки на обучающей выборке?"
   ]
  },
  {
   "cell_type": "code",
   "execution_count": null,
   "metadata": {},
   "outputs": [],
   "source": []
  },
  {
   "cell_type": "markdown",
   "metadata": {},
   "source": [
    "## c.\n",
    "Постройте алгоритм метода опорных векторов, используя различные ядра (линейное, полиномиальное степеней 1-5, сигмоидальная функция, гауссово). Визуализируйте разбиение пространства признаков на области с помощью полученных моделей. Сделайте выводы."
   ]
  },
  {
   "cell_type": "code",
   "execution_count": null,
   "metadata": {},
   "outputs": [],
   "source": []
  },
  {
   "cell_type": "markdown",
   "metadata": {},
   "source": [
    "## d.\n",
    "Постройте алгоритм метода опорных векторов, используя различные ядра (полиномиальное степеней 1-5, сигмоидальная функция, гауссово). Визуализируйте разбиение пространства признаков на области с помощью полученных моделей. Сделайте выводы."
   ]
  },
  {
   "cell_type": "code",
   "execution_count": null,
   "metadata": {},
   "outputs": [],
   "source": []
  },
  {
   "cell_type": "markdown",
   "metadata": {},
   "source": [
    "## e.\n",
    "Постройте алгоритм метода опорных векторов, используя различные ядра (полиномиальное степеней 1-5, сигмоидальная функция, гауссово). Изменяя значение параметра ядра (гамма), продемонстрируйте эффект переобучения, выполните при этом визуализацию разбиения пространства признаков на области."
   ]
  },
  {
   "cell_type": "code",
   "execution_count": null,
   "metadata": {},
   "outputs": [],
   "source": []
  },
  {
   "cell_type": "markdown",
   "metadata": {},
   "source": [
    "# Задание 5\n",
    "Постройте классификаторы для различных данных на основе деревьев решений:"
   ]
  },
  {
   "cell_type": "markdown",
   "metadata": {},
   "source": [
    "## a.\n",
    "Загрузите набор данных Glass из файла glass.csv. Постройте дерево классификации для модели, предсказывающей тип (Type) по остальным признакам. Визуализируйте результирующее дерево решения. Дайте интерпретацию полученным результатам. Является ли построенное дерево избыточным? Исследуйте зависимость точности классификации от критерия расщепления, максимальной глубины дерева и других параметров по вашему усмотрению."
   ]
  },
  {
   "cell_type": "code",
   "execution_count": null,
   "metadata": {},
   "outputs": [],
   "source": []
  },
  {
   "cell_type": "markdown",
   "metadata": {},
   "source": [
    "## b.\n",
    "Загрузите набор данных spam7 из файла spam7.csv. Постройте оптимальное, по вашему мнению, дерево классификации для параметра yesno. Объясните, как был осуществлён подбор параметров. Визуализируйте результирующее дерево решения.Определите наиболее влияющие признаки. Оцените качество классификации."
   ]
  },
  {
   "cell_type": "code",
   "execution_count": null,
   "metadata": {},
   "outputs": [],
   "source": []
  },
  {
   "cell_type": "markdown",
   "metadata": {},
   "source": [
    "# Задание 6\n",
    "Загрузите набор данных из файла bank_scoring_train.csv. Это набор финансовых данных, характеризующий физических лиц. Целевым столбцом является «SeriousDlqin2yrs», означающий, ухудшится ли финансовая ситуация у клиента. Постройте систему по принятию решения о выдаче или невыдаче кредита физическому лицу. Сделайте как минимум 2 варианта системы на основе различных классификаторов. Подберите подходящую метрику качества работы системы исходя из специфики задачи и определите, принятие решения какой системой сработало лучше на bank_scoring_test.csv."
   ]
  },
  {
   "cell_type": "code",
   "execution_count": null,
   "metadata": {},
   "outputs": [],
   "source": []
  }
 ],
 "metadata": {
  "language_info": {
   "codemirror_mode": {
    "name": "ipython",
    "version": 3
   },
   "file_extension": ".py",
   "mimetype": "text/x-python",
   "name": "python",
   "nbconvert_exporter": "python",
   "pygments_lexer": "ipython3",
   "version": "3.8.2-final"
  },
  "orig_nbformat": 2,
  "kernelspec": {
   "name": "python3",
   "display_name": "Python 3"
  }
 },
 "nbformat": 4,
 "nbformat_minor": 2
}